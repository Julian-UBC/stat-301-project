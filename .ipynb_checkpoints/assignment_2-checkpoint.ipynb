{
 "cells": [
  {
   "cell_type": "markdown",
   "id": "692f24f2-24ea-4941-80bd-44dbdef158a8",
   "metadata": {},
   "source": [
    "# Assignment 2: Exploratory Data Analysis and Visualization\n",
    "\n",
    "### Group 24: Julian Widjaja"
   ]
  },
  {
   "cell_type": "markdown",
   "id": "8816b8e6-0213-47ff-8cf7-279645859896",
   "metadata": {},
   "source": [
    "## Library"
   ]
  },
  {
   "cell_type": "code",
   "execution_count": 1,
   "id": "96a810b7-0b15-49cf-86d1-b1fc8d7c78d3",
   "metadata": {
    "tags": []
   },
   "outputs": [
    {
     "name": "stderr",
     "output_type": "stream",
     "text": [
      "\n",
      "Attaching package: ‘dplyr’\n",
      "\n",
      "\n",
      "The following objects are masked from ‘package:stats’:\n",
      "\n",
      "    filter, lag\n",
      "\n",
      "\n",
      "The following objects are masked from ‘package:base’:\n",
      "\n",
      "    intersect, setdiff, setequal, union\n",
      "\n",
      "\n",
      "Loading required package: ggplot2\n",
      "\n",
      "Registered S3 method overwritten by 'GGally':\n",
      "  method from   \n",
      "  +.gg   ggplot2\n",
      "\n"
     ]
    }
   ],
   "source": [
    "library(dplyr)\n",
    "library(GGally)"
   ]
  },
  {
   "cell_type": "markdown",
   "id": "c347b435-2c9f-4555-bad9-bdc345da8501",
   "metadata": {
    "tags": []
   },
   "source": [
    "## Data:\n",
    "\n",
    "We decided to use this dataset for our project: https://archive.ics.uci.edu/dataset/275/bike+sharing+dataset\n",
    "\n",
    "This dataset contains the hourly and daily count of rental bikes between years 2011 and 2012 in Capital bikeshare system with the corresponding weather and seasonal information.\n",
    "\n",
    "Fanaee-T (2013) collected the data from Capital bikeshare system in Washington D.C. during the 2011-2012 year period."
   ]
  },
  {
   "cell_type": "code",
   "execution_count": 2,
   "id": "2a0d8ba0-2c66-46ff-adcd-fad38fc7dfb8",
   "metadata": {
    "tags": []
   },
   "outputs": [],
   "source": [
    "temp <- tempfile()\n",
    "download.file(\"https://archive.ics.uci.edu/static/public/275/bike+sharing+dataset.zip\", temp)\n",
    "data_day <- read.csv(unz(temp, \"day.csv\"), header = TRUE, sep = \",\") \n",
    "data_hour <- read.csv(unz(temp, \"hour.csv\"), header = TRUE, sep = \",\") \n",
    "unlink(temp)"
   ]
  },
  {
   "cell_type": "markdown",
   "id": "31cca991-4076-40cc-b635-71a2279c9d99",
   "metadata": {
    "tags": []
   },
   "source": [
    "`data_day` contains the daily count data. Below we can see the first 6 rows of `data_day`."
   ]
  },
  {
   "cell_type": "code",
   "execution_count": 3,
   "id": "d10db540-2137-41f1-9a39-917035422551",
   "metadata": {
    "tags": []
   },
   "outputs": [
    {
     "data": {
      "text/html": [
       "<table class=\"dataframe\">\n",
       "<caption>A data.frame: 6 × 16</caption>\n",
       "<thead>\n",
       "\t<tr><th></th><th scope=col>instant</th><th scope=col>dteday</th><th scope=col>season</th><th scope=col>yr</th><th scope=col>mnth</th><th scope=col>holiday</th><th scope=col>weekday</th><th scope=col>workingday</th><th scope=col>weathersit</th><th scope=col>temp</th><th scope=col>atemp</th><th scope=col>hum</th><th scope=col>windspeed</th><th scope=col>casual</th><th scope=col>registered</th><th scope=col>cnt</th></tr>\n",
       "\t<tr><th></th><th scope=col>&lt;int&gt;</th><th scope=col>&lt;chr&gt;</th><th scope=col>&lt;int&gt;</th><th scope=col>&lt;int&gt;</th><th scope=col>&lt;int&gt;</th><th scope=col>&lt;int&gt;</th><th scope=col>&lt;int&gt;</th><th scope=col>&lt;int&gt;</th><th scope=col>&lt;int&gt;</th><th scope=col>&lt;dbl&gt;</th><th scope=col>&lt;dbl&gt;</th><th scope=col>&lt;dbl&gt;</th><th scope=col>&lt;dbl&gt;</th><th scope=col>&lt;int&gt;</th><th scope=col>&lt;int&gt;</th><th scope=col>&lt;int&gt;</th></tr>\n",
       "</thead>\n",
       "<tbody>\n",
       "\t<tr><th scope=row>1</th><td>1</td><td>2011-01-01</td><td>1</td><td>0</td><td>1</td><td>0</td><td>6</td><td>0</td><td>2</td><td>0.344167</td><td>0.363625</td><td>0.805833</td><td>0.1604460</td><td>331</td><td> 654</td><td> 985</td></tr>\n",
       "\t<tr><th scope=row>2</th><td>2</td><td>2011-01-02</td><td>1</td><td>0</td><td>1</td><td>0</td><td>0</td><td>0</td><td>2</td><td>0.363478</td><td>0.353739</td><td>0.696087</td><td>0.2485390</td><td>131</td><td> 670</td><td> 801</td></tr>\n",
       "\t<tr><th scope=row>3</th><td>3</td><td>2011-01-03</td><td>1</td><td>0</td><td>1</td><td>0</td><td>1</td><td>1</td><td>1</td><td>0.196364</td><td>0.189405</td><td>0.437273</td><td>0.2483090</td><td>120</td><td>1229</td><td>1349</td></tr>\n",
       "\t<tr><th scope=row>4</th><td>4</td><td>2011-01-04</td><td>1</td><td>0</td><td>1</td><td>0</td><td>2</td><td>1</td><td>1</td><td>0.200000</td><td>0.212122</td><td>0.590435</td><td>0.1602960</td><td>108</td><td>1454</td><td>1562</td></tr>\n",
       "\t<tr><th scope=row>5</th><td>5</td><td>2011-01-05</td><td>1</td><td>0</td><td>1</td><td>0</td><td>3</td><td>1</td><td>1</td><td>0.226957</td><td>0.229270</td><td>0.436957</td><td>0.1869000</td><td> 82</td><td>1518</td><td>1600</td></tr>\n",
       "\t<tr><th scope=row>6</th><td>6</td><td>2011-01-06</td><td>1</td><td>0</td><td>1</td><td>0</td><td>4</td><td>1</td><td>1</td><td>0.204348</td><td>0.233209</td><td>0.518261</td><td>0.0895652</td><td> 88</td><td>1518</td><td>1606</td></tr>\n",
       "</tbody>\n",
       "</table>\n"
      ],
      "text/latex": [
       "A data.frame: 6 × 16\n",
       "\\begin{tabular}{r|llllllllllllllll}\n",
       "  & instant & dteday & season & yr & mnth & holiday & weekday & workingday & weathersit & temp & atemp & hum & windspeed & casual & registered & cnt\\\\\n",
       "  & <int> & <chr> & <int> & <int> & <int> & <int> & <int> & <int> & <int> & <dbl> & <dbl> & <dbl> & <dbl> & <int> & <int> & <int>\\\\\n",
       "\\hline\n",
       "\t1 & 1 & 2011-01-01 & 1 & 0 & 1 & 0 & 6 & 0 & 2 & 0.344167 & 0.363625 & 0.805833 & 0.1604460 & 331 &  654 &  985\\\\\n",
       "\t2 & 2 & 2011-01-02 & 1 & 0 & 1 & 0 & 0 & 0 & 2 & 0.363478 & 0.353739 & 0.696087 & 0.2485390 & 131 &  670 &  801\\\\\n",
       "\t3 & 3 & 2011-01-03 & 1 & 0 & 1 & 0 & 1 & 1 & 1 & 0.196364 & 0.189405 & 0.437273 & 0.2483090 & 120 & 1229 & 1349\\\\\n",
       "\t4 & 4 & 2011-01-04 & 1 & 0 & 1 & 0 & 2 & 1 & 1 & 0.200000 & 0.212122 & 0.590435 & 0.1602960 & 108 & 1454 & 1562\\\\\n",
       "\t5 & 5 & 2011-01-05 & 1 & 0 & 1 & 0 & 3 & 1 & 1 & 0.226957 & 0.229270 & 0.436957 & 0.1869000 &  82 & 1518 & 1600\\\\\n",
       "\t6 & 6 & 2011-01-06 & 1 & 0 & 1 & 0 & 4 & 1 & 1 & 0.204348 & 0.233209 & 0.518261 & 0.0895652 &  88 & 1518 & 1606\\\\\n",
       "\\end{tabular}\n"
      ],
      "text/markdown": [
       "\n",
       "A data.frame: 6 × 16\n",
       "\n",
       "| <!--/--> | instant &lt;int&gt; | dteday &lt;chr&gt; | season &lt;int&gt; | yr &lt;int&gt; | mnth &lt;int&gt; | holiday &lt;int&gt; | weekday &lt;int&gt; | workingday &lt;int&gt; | weathersit &lt;int&gt; | temp &lt;dbl&gt; | atemp &lt;dbl&gt; | hum &lt;dbl&gt; | windspeed &lt;dbl&gt; | casual &lt;int&gt; | registered &lt;int&gt; | cnt &lt;int&gt; |\n",
       "|---|---|---|---|---|---|---|---|---|---|---|---|---|---|---|---|---|\n",
       "| 1 | 1 | 2011-01-01 | 1 | 0 | 1 | 0 | 6 | 0 | 2 | 0.344167 | 0.363625 | 0.805833 | 0.1604460 | 331 |  654 |  985 |\n",
       "| 2 | 2 | 2011-01-02 | 1 | 0 | 1 | 0 | 0 | 0 | 2 | 0.363478 | 0.353739 | 0.696087 | 0.2485390 | 131 |  670 |  801 |\n",
       "| 3 | 3 | 2011-01-03 | 1 | 0 | 1 | 0 | 1 | 1 | 1 | 0.196364 | 0.189405 | 0.437273 | 0.2483090 | 120 | 1229 | 1349 |\n",
       "| 4 | 4 | 2011-01-04 | 1 | 0 | 1 | 0 | 2 | 1 | 1 | 0.200000 | 0.212122 | 0.590435 | 0.1602960 | 108 | 1454 | 1562 |\n",
       "| 5 | 5 | 2011-01-05 | 1 | 0 | 1 | 0 | 3 | 1 | 1 | 0.226957 | 0.229270 | 0.436957 | 0.1869000 |  82 | 1518 | 1600 |\n",
       "| 6 | 6 | 2011-01-06 | 1 | 0 | 1 | 0 | 4 | 1 | 1 | 0.204348 | 0.233209 | 0.518261 | 0.0895652 |  88 | 1518 | 1606 |\n",
       "\n"
      ],
      "text/plain": [
       "  instant dteday     season yr mnth holiday weekday workingday weathersit\n",
       "1 1       2011-01-01 1      0  1    0       6       0          2         \n",
       "2 2       2011-01-02 1      0  1    0       0       0          2         \n",
       "3 3       2011-01-03 1      0  1    0       1       1          1         \n",
       "4 4       2011-01-04 1      0  1    0       2       1          1         \n",
       "5 5       2011-01-05 1      0  1    0       3       1          1         \n",
       "6 6       2011-01-06 1      0  1    0       4       1          1         \n",
       "  temp     atemp    hum      windspeed casual registered cnt \n",
       "1 0.344167 0.363625 0.805833 0.1604460 331     654        985\n",
       "2 0.363478 0.353739 0.696087 0.2485390 131     670        801\n",
       "3 0.196364 0.189405 0.437273 0.2483090 120    1229       1349\n",
       "4 0.200000 0.212122 0.590435 0.1602960 108    1454       1562\n",
       "5 0.226957 0.229270 0.436957 0.1869000  82    1518       1600\n",
       "6 0.204348 0.233209 0.518261 0.0895652  88    1518       1606"
      ]
     },
     "metadata": {},
     "output_type": "display_data"
    }
   ],
   "source": [
    "head(data_day)"
   ]
  },
  {
   "cell_type": "markdown",
   "id": "6b3871d0-dab2-4bb2-82e3-d665787eebff",
   "metadata": {
    "tags": []
   },
   "source": [
    "`data_hour` contains the hourly count data. Below we can see the first 6 rows of`data_hour`."
   ]
  },
  {
   "cell_type": "code",
   "execution_count": 4,
   "id": "216e3597-9c42-4ba5-a6fd-393f78e8eb02",
   "metadata": {
    "tags": []
   },
   "outputs": [
    {
     "data": {
      "text/html": [
       "<table class=\"dataframe\">\n",
       "<caption>A data.frame: 6 × 17</caption>\n",
       "<thead>\n",
       "\t<tr><th></th><th scope=col>instant</th><th scope=col>dteday</th><th scope=col>season</th><th scope=col>yr</th><th scope=col>mnth</th><th scope=col>hr</th><th scope=col>holiday</th><th scope=col>weekday</th><th scope=col>workingday</th><th scope=col>weathersit</th><th scope=col>temp</th><th scope=col>atemp</th><th scope=col>hum</th><th scope=col>windspeed</th><th scope=col>casual</th><th scope=col>registered</th><th scope=col>cnt</th></tr>\n",
       "\t<tr><th></th><th scope=col>&lt;int&gt;</th><th scope=col>&lt;chr&gt;</th><th scope=col>&lt;int&gt;</th><th scope=col>&lt;int&gt;</th><th scope=col>&lt;int&gt;</th><th scope=col>&lt;int&gt;</th><th scope=col>&lt;int&gt;</th><th scope=col>&lt;int&gt;</th><th scope=col>&lt;int&gt;</th><th scope=col>&lt;int&gt;</th><th scope=col>&lt;dbl&gt;</th><th scope=col>&lt;dbl&gt;</th><th scope=col>&lt;dbl&gt;</th><th scope=col>&lt;dbl&gt;</th><th scope=col>&lt;int&gt;</th><th scope=col>&lt;int&gt;</th><th scope=col>&lt;int&gt;</th></tr>\n",
       "</thead>\n",
       "<tbody>\n",
       "\t<tr><th scope=row>1</th><td>1</td><td>2011-01-01</td><td>1</td><td>0</td><td>1</td><td>0</td><td>0</td><td>6</td><td>0</td><td>1</td><td>0.24</td><td>0.2879</td><td>0.81</td><td>0.0000</td><td>3</td><td>13</td><td>16</td></tr>\n",
       "\t<tr><th scope=row>2</th><td>2</td><td>2011-01-01</td><td>1</td><td>0</td><td>1</td><td>1</td><td>0</td><td>6</td><td>0</td><td>1</td><td>0.22</td><td>0.2727</td><td>0.80</td><td>0.0000</td><td>8</td><td>32</td><td>40</td></tr>\n",
       "\t<tr><th scope=row>3</th><td>3</td><td>2011-01-01</td><td>1</td><td>0</td><td>1</td><td>2</td><td>0</td><td>6</td><td>0</td><td>1</td><td>0.22</td><td>0.2727</td><td>0.80</td><td>0.0000</td><td>5</td><td>27</td><td>32</td></tr>\n",
       "\t<tr><th scope=row>4</th><td>4</td><td>2011-01-01</td><td>1</td><td>0</td><td>1</td><td>3</td><td>0</td><td>6</td><td>0</td><td>1</td><td>0.24</td><td>0.2879</td><td>0.75</td><td>0.0000</td><td>3</td><td>10</td><td>13</td></tr>\n",
       "\t<tr><th scope=row>5</th><td>5</td><td>2011-01-01</td><td>1</td><td>0</td><td>1</td><td>4</td><td>0</td><td>6</td><td>0</td><td>1</td><td>0.24</td><td>0.2879</td><td>0.75</td><td>0.0000</td><td>0</td><td> 1</td><td> 1</td></tr>\n",
       "\t<tr><th scope=row>6</th><td>6</td><td>2011-01-01</td><td>1</td><td>0</td><td>1</td><td>5</td><td>0</td><td>6</td><td>0</td><td>2</td><td>0.24</td><td>0.2576</td><td>0.75</td><td>0.0896</td><td>0</td><td> 1</td><td> 1</td></tr>\n",
       "</tbody>\n",
       "</table>\n"
      ],
      "text/latex": [
       "A data.frame: 6 × 17\n",
       "\\begin{tabular}{r|lllllllllllllllll}\n",
       "  & instant & dteday & season & yr & mnth & hr & holiday & weekday & workingday & weathersit & temp & atemp & hum & windspeed & casual & registered & cnt\\\\\n",
       "  & <int> & <chr> & <int> & <int> & <int> & <int> & <int> & <int> & <int> & <int> & <dbl> & <dbl> & <dbl> & <dbl> & <int> & <int> & <int>\\\\\n",
       "\\hline\n",
       "\t1 & 1 & 2011-01-01 & 1 & 0 & 1 & 0 & 0 & 6 & 0 & 1 & 0.24 & 0.2879 & 0.81 & 0.0000 & 3 & 13 & 16\\\\\n",
       "\t2 & 2 & 2011-01-01 & 1 & 0 & 1 & 1 & 0 & 6 & 0 & 1 & 0.22 & 0.2727 & 0.80 & 0.0000 & 8 & 32 & 40\\\\\n",
       "\t3 & 3 & 2011-01-01 & 1 & 0 & 1 & 2 & 0 & 6 & 0 & 1 & 0.22 & 0.2727 & 0.80 & 0.0000 & 5 & 27 & 32\\\\\n",
       "\t4 & 4 & 2011-01-01 & 1 & 0 & 1 & 3 & 0 & 6 & 0 & 1 & 0.24 & 0.2879 & 0.75 & 0.0000 & 3 & 10 & 13\\\\\n",
       "\t5 & 5 & 2011-01-01 & 1 & 0 & 1 & 4 & 0 & 6 & 0 & 1 & 0.24 & 0.2879 & 0.75 & 0.0000 & 0 &  1 &  1\\\\\n",
       "\t6 & 6 & 2011-01-01 & 1 & 0 & 1 & 5 & 0 & 6 & 0 & 2 & 0.24 & 0.2576 & 0.75 & 0.0896 & 0 &  1 &  1\\\\\n",
       "\\end{tabular}\n"
      ],
      "text/markdown": [
       "\n",
       "A data.frame: 6 × 17\n",
       "\n",
       "| <!--/--> | instant &lt;int&gt; | dteday &lt;chr&gt; | season &lt;int&gt; | yr &lt;int&gt; | mnth &lt;int&gt; | hr &lt;int&gt; | holiday &lt;int&gt; | weekday &lt;int&gt; | workingday &lt;int&gt; | weathersit &lt;int&gt; | temp &lt;dbl&gt; | atemp &lt;dbl&gt; | hum &lt;dbl&gt; | windspeed &lt;dbl&gt; | casual &lt;int&gt; | registered &lt;int&gt; | cnt &lt;int&gt; |\n",
       "|---|---|---|---|---|---|---|---|---|---|---|---|---|---|---|---|---|---|\n",
       "| 1 | 1 | 2011-01-01 | 1 | 0 | 1 | 0 | 0 | 6 | 0 | 1 | 0.24 | 0.2879 | 0.81 | 0.0000 | 3 | 13 | 16 |\n",
       "| 2 | 2 | 2011-01-01 | 1 | 0 | 1 | 1 | 0 | 6 | 0 | 1 | 0.22 | 0.2727 | 0.80 | 0.0000 | 8 | 32 | 40 |\n",
       "| 3 | 3 | 2011-01-01 | 1 | 0 | 1 | 2 | 0 | 6 | 0 | 1 | 0.22 | 0.2727 | 0.80 | 0.0000 | 5 | 27 | 32 |\n",
       "| 4 | 4 | 2011-01-01 | 1 | 0 | 1 | 3 | 0 | 6 | 0 | 1 | 0.24 | 0.2879 | 0.75 | 0.0000 | 3 | 10 | 13 |\n",
       "| 5 | 5 | 2011-01-01 | 1 | 0 | 1 | 4 | 0 | 6 | 0 | 1 | 0.24 | 0.2879 | 0.75 | 0.0000 | 0 |  1 |  1 |\n",
       "| 6 | 6 | 2011-01-01 | 1 | 0 | 1 | 5 | 0 | 6 | 0 | 2 | 0.24 | 0.2576 | 0.75 | 0.0896 | 0 |  1 |  1 |\n",
       "\n"
      ],
      "text/plain": [
       "  instant dteday     season yr mnth hr holiday weekday workingday weathersit\n",
       "1 1       2011-01-01 1      0  1    0  0       6       0          1         \n",
       "2 2       2011-01-01 1      0  1    1  0       6       0          1         \n",
       "3 3       2011-01-01 1      0  1    2  0       6       0          1         \n",
       "4 4       2011-01-01 1      0  1    3  0       6       0          1         \n",
       "5 5       2011-01-01 1      0  1    4  0       6       0          1         \n",
       "6 6       2011-01-01 1      0  1    5  0       6       0          2         \n",
       "  temp atemp  hum  windspeed casual registered cnt\n",
       "1 0.24 0.2879 0.81 0.0000    3      13         16 \n",
       "2 0.22 0.2727 0.80 0.0000    8      32         40 \n",
       "3 0.22 0.2727 0.80 0.0000    5      27         32 \n",
       "4 0.24 0.2879 0.75 0.0000    3      10         13 \n",
       "5 0.24 0.2879 0.75 0.0000    0       1          1 \n",
       "6 0.24 0.2576 0.75 0.0896    0       1          1 "
      ]
     },
     "metadata": {},
     "output_type": "display_data"
    }
   ],
   "source": [
    "head(data_hour)"
   ]
  },
  {
   "cell_type": "code",
   "execution_count": 5,
   "id": "783e29d8-39b6-452c-8304-b4a378735b37",
   "metadata": {
    "tags": []
   },
   "outputs": [
    {
     "data": {
      "text/html": [
       "17379"
      ],
      "text/latex": [
       "17379"
      ],
      "text/markdown": [
       "17379"
      ],
      "text/plain": [
       "[1] 17379"
      ]
     },
     "metadata": {},
     "output_type": "display_data"
    },
    {
     "data": {
      "text/html": [
       "731"
      ],
      "text/latex": [
       "731"
      ],
      "text/markdown": [
       "731"
      ],
      "text/plain": [
       "[1] 731"
      ]
     },
     "metadata": {},
     "output_type": "display_data"
    }
   ],
   "source": [
    "nrow(data_hour)\n",
    "nrow(data_day)"
   ]
  },
  {
   "cell_type": "markdown",
   "id": "bca4b4b4-b38a-4eb4-a65a-fadccbf06bef",
   "metadata": {},
   "source": [
    "`data_hour` has a total of 17379 observations with no missing values. `data_day` has a total of 731 observations with no missing values."
   ]
  },
  {
   "cell_type": "markdown",
   "id": "ee422919-d62b-41c7-98b5-67a6149f567a",
   "metadata": {},
   "source": [
    "`data_hour` has 17 variables while `data_day` has 16 variables. Both `data_hour` and `data_day` have the same following variables, except `hr` which is only in `data_hour`.\n",
    "\n",
    "- instant (int): record index\n",
    "- dteday (chr): date\n",
    "- season (int): season (1:winter, 2:spring, 3:summer, 4:fall)\n",
    "- yr (int): year (0: 2011, 1:2012)\n",
    "- mnth (int): month (1 to 12)\n",
    "- hr (int): hour (0 to 23) [only for `data_hour`]\n",
    "- holiday (int): whether day is holiday or not (extracted from http://dchr.dc.gov/page/holiday-schedule)\n",
    "- weekday (int): day of the week\n",
    "- workingday (int): if day is neither weekend nor holiday is 1, otherwise is 0.\n",
    "- weathersit (int): \n",
    "    - 1: Clear, Few clouds, Partly cloudy, Partly cloudy\n",
    "    - 2: Mist + Cloudy, Mist + Broken clouds, Mist + Few clouds, Mist\n",
    "    - 3: Light Snow, Light Rain + Thunderstorm + Scattered clouds, Light Rain + Scattered clouds\n",
    "    - 4: Heavy Rain + Ice Pallets + Thunderstorm + Mist, Snow + Fog\n",
    "- temp (dbl): Normalized temperature in Celsius. The values are derived via (t-t_min)/(t_max-t_min), t_min=-8, t_max=+39 (only in hourly scale)\n",
    "- atemp (dbl): Normalized feeling temperature in Celsius. The values are derived via (t-t_min)/(t_max-t_min), t_min=-16, t_max=+50 (only in hourly scale)\n",
    "- hum (dbl): Normalized humidity. The values are divided to 100 (max)\n",
    "- windspeed (dbl): Normalized wind speed. The values are divided to 67 (max)\n",
    "- casual (int): count of casual users\n",
    "- registered (int): count of registered users\n",
    "- cnt (int): count of total rental bikes including both casual and registered\n",
    "\n"
   ]
  },
  {
   "cell_type": "markdown",
   "id": "430c46f2-e89e-4371-8406-271519772ee8",
   "metadata": {},
   "source": [
    "## Question:\n",
    "\n",
    "What is the expected total count of rental bikes daily based on season, working day, and temperature?\n",
    "\n",
    "The data could help us answer this question because they have the variables needed to answer our question in each observation. In this case, our response variable is `cnt` and our explanatory variables are `season`, `temp`, and `workingday`. "
   ]
  },
  {
   "cell_type": "markdown",
   "id": "83bbadfb-54bf-44b1-8812-dbcf3ffabf14",
   "metadata": {},
   "source": [
    "## Visualization:"
   ]
  },
  {
   "cell_type": "code",
   "execution_count": 9,
   "id": "33d8cb38-28f0-41ba-94d2-f6b5bde48278",
   "metadata": {
    "tags": []
   },
   "outputs": [
    {
     "data": {
      "text/html": [
       "<table class=\"dataframe\">\n",
       "<caption>A data.frame: 6 × 4</caption>\n",
       "<thead>\n",
       "\t<tr><th></th><th scope=col>cnt</th><th scope=col>season</th><th scope=col>temp</th><th scope=col>workingday</th></tr>\n",
       "\t<tr><th></th><th scope=col>&lt;int&gt;</th><th scope=col>&lt;int&gt;</th><th scope=col>&lt;dbl&gt;</th><th scope=col>&lt;int&gt;</th></tr>\n",
       "</thead>\n",
       "<tbody>\n",
       "\t<tr><th scope=row>1</th><td> 985</td><td>1</td><td>0.344167</td><td>0</td></tr>\n",
       "\t<tr><th scope=row>2</th><td> 801</td><td>1</td><td>0.363478</td><td>0</td></tr>\n",
       "\t<tr><th scope=row>3</th><td>1349</td><td>1</td><td>0.196364</td><td>1</td></tr>\n",
       "\t<tr><th scope=row>4</th><td>1562</td><td>1</td><td>0.200000</td><td>1</td></tr>\n",
       "\t<tr><th scope=row>5</th><td>1600</td><td>1</td><td>0.226957</td><td>1</td></tr>\n",
       "\t<tr><th scope=row>6</th><td>1606</td><td>1</td><td>0.204348</td><td>1</td></tr>\n",
       "</tbody>\n",
       "</table>\n"
      ],
      "text/latex": [
       "A data.frame: 6 × 4\n",
       "\\begin{tabular}{r|llll}\n",
       "  & cnt & season & temp & workingday\\\\\n",
       "  & <int> & <int> & <dbl> & <int>\\\\\n",
       "\\hline\n",
       "\t1 &  985 & 1 & 0.344167 & 0\\\\\n",
       "\t2 &  801 & 1 & 0.363478 & 0\\\\\n",
       "\t3 & 1349 & 1 & 0.196364 & 1\\\\\n",
       "\t4 & 1562 & 1 & 0.200000 & 1\\\\\n",
       "\t5 & 1600 & 1 & 0.226957 & 1\\\\\n",
       "\t6 & 1606 & 1 & 0.204348 & 1\\\\\n",
       "\\end{tabular}\n"
      ],
      "text/markdown": [
       "\n",
       "A data.frame: 6 × 4\n",
       "\n",
       "| <!--/--> | cnt &lt;int&gt; | season &lt;int&gt; | temp &lt;dbl&gt; | workingday &lt;int&gt; |\n",
       "|---|---|---|---|---|\n",
       "| 1 |  985 | 1 | 0.344167 | 0 |\n",
       "| 2 |  801 | 1 | 0.363478 | 0 |\n",
       "| 3 | 1349 | 1 | 0.196364 | 1 |\n",
       "| 4 | 1562 | 1 | 0.200000 | 1 |\n",
       "| 5 | 1600 | 1 | 0.226957 | 1 |\n",
       "| 6 | 1606 | 1 | 0.204348 | 1 |\n",
       "\n"
      ],
      "text/plain": [
       "  cnt  season temp     workingday\n",
       "1  985 1      0.344167 0         \n",
       "2  801 1      0.363478 0         \n",
       "3 1349 1      0.196364 1         \n",
       "4 1562 1      0.200000 1         \n",
       "5 1600 1      0.226957 1         \n",
       "6 1606 1      0.204348 1         "
      ]
     },
     "metadata": {},
     "output_type": "display_data"
    }
   ],
   "source": [
    "bike_data <- data_day %>% select(cnt, season, temp, workingday)\n",
    "\n",
    "head(bike_data)"
   ]
  },
  {
   "cell_type": "code",
   "execution_count": 12,
   "id": "b1da8279-ab04-406d-829d-acc448ac9323",
   "metadata": {
    "tags": []
   },
   "outputs": [
    {
     "name": "stderr",
     "output_type": "stream",
     "text": [
      "\u001b[1m\u001b[22m`geom_smooth()` using formula = 'y ~ x'\n"
     ]
    },
    {
     "data": {
      "application/pdf": "[encoded data removed]",
      "image/jpeg": "[encoded data removed]",
      "image/png": "[encoded data removed]",
      "image/svg+xml": [
       "<?xml version=\"1.0\" encoding=\"UTF-8\"?>\n",
       "<svg xmlns=\"http://www.w3.org/2000/svg\" xmlns:xlink=\"http://www.w3.org/1999/xlink\" width=\"504pt\" height=\"504pt\" viewBox=\"0 0 504 504\" version=\"1.1\">\n",
       "<defs>\n",
       "<g>\n",
       "<symbol overflow=\"visible\" id=\"glyph0-0\">\n",
       "<path style=\"stroke:none;\" d=\"M 0.4375 0 L 0.4375 -8.796875 L 3.953125 -8.796875 L 3.953125 0 Z M 0.875 -0.4375 L 3.5 -0.4375 L 3.5 -8.359375 L 0.875 -8.359375 Z M 0.875 -0.4375 \"/>\n",
       "</symbol>\n",
       "<symbol overflow=\"visible\" id=\"glyph0-1\">\n",
       "<path style=\"stroke:none;\" d=\"M 1 0 L 1 -0.984375 L 3.3125 -0.984375 L 3.3125 -7.96875 L 1.265625 -6.515625 L 1.265625 -7.609375 L 3.421875 -9.078125 L 4.484375 -9.078125 L 4.484375 -0.984375 L 6.703125 -0.984375 L 6.703125 0 Z M 1 0 \"/>\n",
       "</symbol>\n",
       "<symbol overflow=\"visible\" id=\"glyph0-2\">\n",
       "<path style=\"stroke:none;\" d=\"M 6.828125 -4.546875 C 6.828125 -3.671875 6.742188 -2.9375 6.578125 -2.34375 C 6.410156 -1.75 6.179688 -1.265625 5.890625 -0.890625 C 5.609375 -0.523438 5.273438 -0.265625 4.890625 -0.109375 C 4.503906 0.046875 4.09375 0.125 3.65625 0.125 C 3.207031 0.125 2.789062 0.046875 2.40625 -0.109375 C 2.03125 -0.265625 1.703125 -0.523438 1.421875 -0.890625 C 1.140625 -1.253906 0.914062 -1.734375 0.75 -2.328125 C 0.59375 -2.929688 0.515625 -3.671875 0.515625 -4.546875 C 0.515625 -5.460938 0.59375 -6.21875 0.75 -6.8125 C 0.914062 -7.414062 1.140625 -7.894531 1.421875 -8.25 C 1.703125 -8.601562 2.035156 -8.851562 2.421875 -9 C 2.816406 -9.144531 3.238281 -9.21875 3.6875 -9.21875 C 4.125 -9.21875 4.53125 -9.144531 4.90625 -9 C 5.289062 -8.851562 5.625 -8.601562 5.90625 -8.25 C 6.195312 -7.894531 6.421875 -7.414062 6.578125 -6.8125 C 6.742188 -6.21875 6.828125 -5.460938 6.828125 -4.546875 Z M 5.640625 -4.546875 C 5.640625 -5.265625 5.597656 -5.863281 5.515625 -6.34375 C 5.429688 -6.820312 5.304688 -7.203125 5.140625 -7.484375 C 4.972656 -7.773438 4.765625 -7.976562 4.515625 -8.09375 C 4.273438 -8.21875 4 -8.28125 3.6875 -8.28125 C 3.363281 -8.28125 3.078125 -8.21875 2.828125 -8.09375 C 2.578125 -7.976562 2.367188 -7.773438 2.203125 -7.484375 C 2.035156 -7.203125 1.90625 -6.820312 1.8125 -6.34375 C 1.726562 -5.863281 1.6875 -5.265625 1.6875 -4.546875 C 1.6875 -3.847656 1.726562 -3.257812 1.8125 -2.78125 C 1.90625 -2.300781 2.035156 -1.914062 2.203125 -1.625 C 2.378906 -1.34375 2.585938 -1.132812 2.828125 -1 C 3.078125 -0.875 3.359375 -0.8125 3.671875 -0.8125 C 3.972656 -0.8125 4.242188 -0.875 4.484375 -1 C 4.734375 -1.132812 4.941406 -1.34375 5.109375 -1.625 C 5.285156 -1.914062 5.414062 -2.300781 5.5 -2.78125 C 5.59375 -3.257812 5.640625 -3.847656 5.640625 -4.546875 Z M 5.640625 -4.546875 \"/>\n",
       "</symbol>\n",
       "<symbol overflow=\"visible\" id=\"glyph0-3\">\n",
       "<path style=\"stroke:none;\" d=\"M 0.65625 0 L 0.65625 -0.8125 C 0.882812 -1.320312 1.15625 -1.769531 1.46875 -2.15625 C 1.78125 -2.539062 2.109375 -2.882812 2.453125 -3.1875 C 2.804688 -3.5 3.15625 -3.789062 3.5 -4.0625 C 3.84375 -4.332031 4.148438 -4.597656 4.421875 -4.859375 C 4.691406 -5.128906 4.910156 -5.410156 5.078125 -5.703125 C 5.253906 -5.992188 5.34375 -6.320312 5.34375 -6.6875 C 5.34375 -6.945312 5.300781 -7.175781 5.21875 -7.375 C 5.144531 -7.570312 5.035156 -7.734375 4.890625 -7.859375 C 4.742188 -7.992188 4.566406 -8.09375 4.359375 -8.15625 C 4.160156 -8.226562 3.9375 -8.265625 3.6875 -8.265625 C 3.457031 -8.265625 3.238281 -8.234375 3.03125 -8.171875 C 2.832031 -8.109375 2.648438 -8.007812 2.484375 -7.875 C 2.328125 -7.75 2.195312 -7.585938 2.09375 -7.390625 C 2 -7.203125 1.9375 -6.984375 1.90625 -6.734375 L 0.71875 -6.84375 C 0.757812 -7.164062 0.847656 -7.46875 0.984375 -7.75 C 1.128906 -8.039062 1.328125 -8.296875 1.578125 -8.515625 C 1.828125 -8.734375 2.125 -8.90625 2.46875 -9.03125 C 2.820312 -9.15625 3.226562 -9.21875 3.6875 -9.21875 C 4.132812 -9.21875 4.535156 -9.160156 4.890625 -9.046875 C 5.242188 -8.941406 5.539062 -8.785156 5.78125 -8.578125 C 6.03125 -8.367188 6.21875 -8.109375 6.34375 -7.796875 C 6.46875 -7.492188 6.53125 -7.140625 6.53125 -6.734375 C 6.53125 -6.421875 6.472656 -6.128906 6.359375 -5.859375 C 6.253906 -5.585938 6.109375 -5.328125 5.921875 -5.078125 C 5.742188 -4.828125 5.535156 -4.582031 5.296875 -4.34375 C 5.054688 -4.113281 4.804688 -3.890625 4.546875 -3.671875 C 4.285156 -3.453125 4.019531 -3.234375 3.75 -3.015625 C 3.488281 -2.796875 3.238281 -2.578125 3 -2.359375 C 2.769531 -2.140625 2.5625 -1.914062 2.375 -1.6875 C 2.1875 -1.46875 2.039062 -1.234375 1.9375 -0.984375 L 6.671875 -0.984375 L 6.671875 0 Z M 0.65625 0 \"/>\n",
       "</symbol>\n",
       "<symbol overflow=\"visible\" id=\"glyph0-4\">\n",
       "<path style=\"stroke:none;\" d=\"M 6.765625 -2.515625 C 6.765625 -2.085938 6.695312 -1.710938 6.5625 -1.390625 C 6.425781 -1.066406 6.226562 -0.789062 5.96875 -0.5625 C 5.707031 -0.332031 5.382812 -0.160156 5 -0.046875 C 4.613281 0.0664062 4.175781 0.125 3.6875 0.125 C 3.125 0.125 2.648438 0.0546875 2.265625 -0.078125 C 1.878906 -0.222656 1.5625 -0.410156 1.3125 -0.640625 C 1.0625 -0.867188 0.875 -1.128906 0.75 -1.421875 C 0.625 -1.710938 0.539062 -2.015625 0.5 -2.328125 L 1.703125 -2.4375 C 1.734375 -2.195312 1.796875 -1.976562 1.890625 -1.78125 C 1.984375 -1.582031 2.109375 -1.410156 2.265625 -1.265625 C 2.429688 -1.128906 2.628906 -1.019531 2.859375 -0.9375 C 3.085938 -0.863281 3.363281 -0.828125 3.6875 -0.828125 C 4.269531 -0.828125 4.726562 -0.972656 5.0625 -1.265625 C 5.394531 -1.554688 5.5625 -1.984375 5.5625 -2.546875 C 5.5625 -2.878906 5.484375 -3.144531 5.328125 -3.34375 C 5.179688 -3.550781 5 -3.710938 4.78125 -3.828125 C 4.5625 -3.941406 4.320312 -4.019531 4.0625 -4.0625 C 3.800781 -4.101562 3.5625 -4.125 3.34375 -4.125 L 2.6875 -4.125 L 2.6875 -5.125 L 3.3125 -5.125 C 3.53125 -5.125 3.757812 -5.144531 4 -5.1875 C 4.238281 -5.238281 4.453125 -5.320312 4.640625 -5.4375 C 4.835938 -5.550781 5 -5.707031 5.125 -5.90625 C 5.25 -6.113281 5.3125 -6.375 5.3125 -6.6875 C 5.3125 -7.175781 5.171875 -7.5625 4.890625 -7.84375 C 4.609375 -8.125 4.179688 -8.265625 3.609375 -8.265625 C 3.097656 -8.265625 2.6875 -8.132812 2.375 -7.875 C 2.0625 -7.613281 1.878906 -7.242188 1.828125 -6.765625 L 0.65625 -6.859375 C 0.707031 -7.253906 0.816406 -7.597656 0.984375 -7.890625 C 1.160156 -8.191406 1.378906 -8.4375 1.640625 -8.625 C 1.898438 -8.820312 2.203125 -8.96875 2.546875 -9.0625 C 2.890625 -9.164062 3.25 -9.21875 3.625 -9.21875 C 4.132812 -9.21875 4.570312 -9.15625 4.9375 -9.03125 C 5.300781 -8.90625 5.597656 -8.734375 5.828125 -8.515625 C 6.066406 -8.296875 6.238281 -8.039062 6.34375 -7.75 C 6.457031 -7.457031 6.515625 -7.144531 6.515625 -6.8125 C 6.515625 -6.550781 6.476562 -6.300781 6.40625 -6.0625 C 6.332031 -5.832031 6.21875 -5.625 6.0625 -5.4375 C 5.90625 -5.25 5.707031 -5.085938 5.46875 -4.953125 C 5.226562 -4.828125 4.941406 -4.726562 4.609375 -4.65625 L 4.609375 -4.640625 C 4.972656 -4.597656 5.289062 -4.515625 5.5625 -4.390625 C 5.832031 -4.265625 6.054688 -4.101562 6.234375 -3.90625 C 6.410156 -3.71875 6.539062 -3.503906 6.625 -3.265625 C 6.71875 -3.023438 6.765625 -2.773438 6.765625 -2.515625 Z M 6.765625 -2.515625 \"/>\n",
       "</symbol>\n",
       "<symbol overflow=\"visible\" id=\"glyph0-5\">\n",
       "<path style=\"stroke:none;\" d=\"M 5.671875 -2.0625 L 5.671875 0 L 4.578125 0 L 4.578125 -2.0625 L 0.296875 -2.0625 L 0.296875 -2.953125 L 4.46875 -9.078125 L 5.671875 -9.078125 L 5.671875 -2.96875 L 6.953125 -2.96875 L 6.953125 -2.0625 Z M 4.578125 -7.78125 C 4.578125 -7.757812 4.554688 -7.71875 4.515625 -7.65625 C 4.484375 -7.59375 4.445312 -7.519531 4.40625 -7.4375 C 4.363281 -7.363281 4.316406 -7.285156 4.265625 -7.203125 C 4.222656 -7.117188 4.1875 -7.050781 4.15625 -7 L 1.828125 -3.578125 C 1.804688 -3.546875 1.773438 -3.5 1.734375 -3.4375 C 1.691406 -3.382812 1.648438 -3.328125 1.609375 -3.265625 C 1.566406 -3.210938 1.519531 -3.15625 1.46875 -3.09375 C 1.425781 -3.039062 1.394531 -3 1.375 -2.96875 L 4.578125 -2.96875 Z M 4.578125 -7.78125 \"/>\n",
       "</symbol>\n",
       "<symbol overflow=\"visible\" id=\"glyph0-6\">\n",
       "<path style=\"stroke:none;\" d=\"M 6.78125 -2.953125 C 6.78125 -2.503906 6.710938 -2.085938 6.578125 -1.703125 C 6.441406 -1.328125 6.238281 -1.003906 5.96875 -0.734375 C 5.695312 -0.460938 5.359375 -0.25 4.953125 -0.09375 C 4.554688 0.0507812 4.09375 0.125 3.5625 0.125 C 3.082031 0.125 2.664062 0.0703125 2.3125 -0.03125 C 1.957031 -0.144531 1.65625 -0.300781 1.40625 -0.5 C 1.164062 -0.695312 0.972656 -0.925781 0.828125 -1.1875 C 0.691406 -1.445312 0.59375 -1.726562 0.53125 -2.03125 L 1.703125 -2.171875 C 1.742188 -1.992188 1.804688 -1.820312 1.890625 -1.65625 C 1.984375 -1.5 2.101562 -1.359375 2.25 -1.234375 C 2.394531 -1.109375 2.578125 -1.003906 2.796875 -0.921875 C 3.015625 -0.847656 3.28125 -0.8125 3.59375 -0.8125 C 3.894531 -0.8125 4.164062 -0.859375 4.40625 -0.953125 C 4.65625 -1.046875 4.863281 -1.179688 5.03125 -1.359375 C 5.207031 -1.546875 5.34375 -1.769531 5.4375 -2.03125 C 5.53125 -2.289062 5.578125 -2.59375 5.578125 -2.9375 C 5.578125 -3.21875 5.53125 -3.472656 5.4375 -3.703125 C 5.351562 -3.941406 5.226562 -4.144531 5.0625 -4.3125 C 4.894531 -4.476562 4.6875 -4.609375 4.4375 -4.703125 C 4.195312 -4.796875 3.921875 -4.84375 3.609375 -4.84375 C 3.421875 -4.84375 3.242188 -4.828125 3.078125 -4.796875 C 2.921875 -4.765625 2.769531 -4.71875 2.625 -4.65625 C 2.488281 -4.59375 2.363281 -4.519531 2.25 -4.4375 C 2.132812 -4.363281 2.023438 -4.285156 1.921875 -4.203125 L 0.796875 -4.203125 L 1.09375 -9.078125 L 6.265625 -9.078125 L 6.265625 -8.09375 L 2.15625 -8.09375 L 1.984375 -5.21875 C 2.179688 -5.375 2.4375 -5.507812 2.75 -5.625 C 3.0625 -5.738281 3.429688 -5.796875 3.859375 -5.796875 C 4.304688 -5.796875 4.707031 -5.726562 5.0625 -5.59375 C 5.425781 -5.457031 5.734375 -5.257812 5.984375 -5 C 6.242188 -4.75 6.441406 -4.445312 6.578125 -4.09375 C 6.710938 -3.75 6.78125 -3.367188 6.78125 -2.953125 Z M 6.78125 -2.953125 \"/>\n",
       "</symbol>\n",
       "</g>\n",
       "<clipPath id=\"clip1\">\n",
       "  <path d=\"M 49.152344 28.957031 L 498.523438 28.957031 L 498.523438 462.847656 L 49.152344 462.847656 Z M 49.152344 28.957031 \"/>\n",
       "</clipPath>\n",
       "<clipPath id=\"clip2\">\n",
       "  <path d=\"M 49.152344 442 L 498.523438 442 L 498.523438 444 L 49.152344 444 Z M 49.152344 442 \"/>\n",
       "</clipPath>\n",
       "<clipPath id=\"clip3\">\n",
       "  <path d=\"M 49.152344 330 L 498.523438 330 L 498.523438 331 L 49.152344 331 Z M 49.152344 330 \"/>\n",
       "</clipPath>\n",
       "<clipPath id=\"clip4\">\n",
       "  <path d=\"M 49.152344 217 L 498.523438 217 L 498.523438 218 L 49.152344 218 Z M 49.152344 217 \"/>\n",
       "</clipPath>\n",
       "<clipPath id=\"clip5\">\n",
       "  <path d=\"M 49.152344 104 L 498.523438 104 L 498.523438 106 L 49.152344 106 Z M 49.152344 104 \"/>\n",
       "</clipPath>\n",
       "<clipPath id=\"clip6\">\n",
       "  <path d=\"M 110 28.957031 L 111 28.957031 L 111 462.847656 L 110 462.847656 Z M 110 28.957031 \"/>\n",
       "</clipPath>\n",
       "<clipPath id=\"clip7\">\n",
       "  <path d=\"M 191 28.957031 L 193 28.957031 L 193 462.847656 L 191 462.847656 Z M 191 28.957031 \"/>\n",
       "</clipPath>\n",
       "<clipPath id=\"clip8\">\n",
       "  <path d=\"M 273 28.957031 L 275 28.957031 L 275 462.847656 L 273 462.847656 Z M 273 28.957031 \"/>\n",
       "</clipPath>\n",
       "<clipPath id=\"clip9\">\n",
       "  <path d=\"M 355 28.957031 L 356 28.957031 L 356 462.847656 L 355 462.847656 Z M 355 28.957031 \"/>\n",
       "</clipPath>\n",
       "<clipPath id=\"clip10\">\n",
       "  <path d=\"M 436 28.957031 L 438 28.957031 L 438 462.847656 L 436 462.847656 Z M 436 28.957031 \"/>\n",
       "</clipPath>\n",
       "<clipPath id=\"clip11\">\n",
       "  <path d=\"M 49.152344 386 L 498.523438 386 L 498.523438 388 L 49.152344 388 Z M 49.152344 386 \"/>\n",
       "</clipPath>\n",
       "<clipPath id=\"clip12\">\n",
       "  <path d=\"M 49.152344 273 L 498.523438 273 L 498.523438 275 L 49.152344 275 Z M 49.152344 273 \"/>\n",
       "</clipPath>\n",
       "<clipPath id=\"clip13\">\n",
       "  <path d=\"M 49.152344 160 L 498.523438 160 L 498.523438 162 L 49.152344 162 Z M 49.152344 160 \"/>\n",
       "</clipPath>\n",
       "<clipPath id=\"clip14\">\n",
       "  <path d=\"M 49.152344 48 L 498.523438 48 L 498.523438 50 L 49.152344 50 Z M 49.152344 48 \"/>\n",
       "</clipPath>\n",
       "<clipPath id=\"clip15\">\n",
       "  <path d=\"M 69 28.957031 L 71 28.957031 L 71 462.847656 L 69 462.847656 Z M 69 28.957031 \"/>\n",
       "</clipPath>\n",
       "<clipPath id=\"clip16\">\n",
       "  <path d=\"M 150 28.957031 L 152 28.957031 L 152 462.847656 L 150 462.847656 Z M 150 28.957031 \"/>\n",
       "</clipPath>\n",
       "<clipPath id=\"clip17\">\n",
       "  <path d=\"M 232 28.957031 L 234 28.957031 L 234 462.847656 L 232 462.847656 Z M 232 28.957031 \"/>\n",
       "</clipPath>\n",
       "<clipPath id=\"clip18\">\n",
       "  <path d=\"M 314 28.957031 L 316 28.957031 L 316 462.847656 L 314 462.847656 Z M 314 28.957031 \"/>\n",
       "</clipPath>\n",
       "<clipPath id=\"clip19\">\n",
       "  <path d=\"M 395 28.957031 L 397 28.957031 L 397 462.847656 L 395 462.847656 Z M 395 28.957031 \"/>\n",
       "</clipPath>\n",
       "<clipPath id=\"clip20\">\n",
       "  <path d=\"M 477 28.957031 L 479 28.957031 L 479 462.847656 L 477 462.847656 Z M 477 28.957031 \"/>\n",
       "</clipPath>\n",
       "</defs>\n",
       "<g id=\"surface348\">\n",
       "<rect x=\"0\" y=\"0\" width=\"504\" height=\"504\" style=\"fill:rgb(100%,100%,100%);fill-opacity:1;stroke:none;\"/>\n",
       "<rect x=\"0\" y=\"0\" width=\"504\" height=\"504\" style=\"fill:rgb(100%,100%,100%);fill-opacity:1;stroke:none;\"/>\n",
       "<path style=\"fill:none;stroke-width:1.066978;stroke-linecap:round;stroke-linejoin:round;stroke:rgb(100%,100%,100%);stroke-opacity:1;stroke-miterlimit:10;\" d=\"M 0 504 L 504 504 L 504 0 L 0 0 Z M 0 504 \"/>\n",
       "<g clip-path=\"url(#clip1)\" clip-rule=\"nonzero\">\n",
       "<path style=\" stroke:none;fill-rule:nonzero;fill:rgb(92.156863%,92.156863%,92.156863%);fill-opacity:1;\" d=\"M 49.152344 462.847656 L 498.523438 462.847656 L 498.523438 28.957031 L 49.152344 28.957031 Z M 49.152344 462.847656 \"/>\n",
       "</g>\n",
       "<g clip-path=\"url(#clip2)\" clip-rule=\"nonzero\">\n",
       "<path style=\"fill:none;stroke-width:0.533489;stroke-linecap:butt;stroke-linejoin:round;stroke:rgb(100%,100%,100%);stroke-opacity:1;stroke-miterlimit:10;\" d=\"M 49.152344 443.128906 L 498.519531 443.128906 \"/>\n",
       "</g>\n",
       "<g clip-path=\"url(#clip3)\" clip-rule=\"nonzero\">\n",
       "<path style=\"fill:none;stroke-width:0.533489;stroke-linecap:butt;stroke-linejoin:round;stroke:rgb(100%,100%,100%);stroke-opacity:1;stroke-miterlimit:10;\" d=\"M 49.152344 330.429688 L 498.519531 330.429688 \"/>\n",
       "</g>\n",
       "<g clip-path=\"url(#clip4)\" clip-rule=\"nonzero\">\n",
       "<path style=\"fill:none;stroke-width:0.533489;stroke-linecap:butt;stroke-linejoin:round;stroke:rgb(100%,100%,100%);stroke-opacity:1;stroke-miterlimit:10;\" d=\"M 49.152344 217.730469 L 498.519531 217.730469 \"/>\n",
       "</g>\n",
       "<g clip-path=\"url(#clip5)\" clip-rule=\"nonzero\">\n",
       "<path style=\"fill:none;stroke-width:0.533489;stroke-linecap:butt;stroke-linejoin:round;stroke:rgb(100%,100%,100%);stroke-opacity:1;stroke-miterlimit:10;\" d=\"M 49.152344 105.03125 L 498.519531 105.03125 \"/>\n",
       "</g>\n",
       "<g clip-path=\"url(#clip6)\" clip-rule=\"nonzero\">\n",
       "<path style=\"fill:none;stroke-width:0.533489;stroke-linecap:butt;stroke-linejoin:round;stroke:rgb(100%,100%,100%);stroke-opacity:1;stroke-miterlimit:10;\" d=\"M 110.429688 462.847656 L 110.429688 28.957031 \"/>\n",
       "</g>\n",
       "<g clip-path=\"url(#clip7)\" clip-rule=\"nonzero\">\n",
       "<path style=\"fill:none;stroke-width:0.533489;stroke-linecap:butt;stroke-linejoin:round;stroke:rgb(100%,100%,100%);stroke-opacity:1;stroke-miterlimit:10;\" d=\"M 192.132812 462.847656 L 192.132812 28.957031 \"/>\n",
       "</g>\n",
       "<g clip-path=\"url(#clip8)\" clip-rule=\"nonzero\">\n",
       "<path style=\"fill:none;stroke-width:0.533489;stroke-linecap:butt;stroke-linejoin:round;stroke:rgb(100%,100%,100%);stroke-opacity:1;stroke-miterlimit:10;\" d=\"M 273.835938 462.847656 L 273.835938 28.957031 \"/>\n",
       "</g>\n",
       "<g clip-path=\"url(#clip9)\" clip-rule=\"nonzero\">\n",
       "<path style=\"fill:none;stroke-width:0.533489;stroke-linecap:butt;stroke-linejoin:round;stroke:rgb(100%,100%,100%);stroke-opacity:1;stroke-miterlimit:10;\" d=\"M 355.539062 462.847656 L 355.539062 28.957031 \"/>\n",
       "</g>\n",
       "<g clip-path=\"url(#clip10)\" clip-rule=\"nonzero\">\n",
       "<path style=\"fill:none;stroke-width:0.533489;stroke-linecap:butt;stroke-linejoin:round;stroke:rgb(100%,100%,100%);stroke-opacity:1;stroke-miterlimit:10;\" d=\"M 437.242188 462.847656 L 437.242188 28.957031 \"/>\n",
       "</g>\n",
       "<g clip-path=\"url(#clip11)\" clip-rule=\"nonzero\">\n",
       "<path style=\"fill:none;stroke-width:1.066978;stroke-linecap:butt;stroke-linejoin:round;stroke:rgb(100%,100%,100%);stroke-opacity:1;stroke-miterlimit:10;\" d=\"M 49.152344 386.777344 L 498.519531 386.777344 \"/>\n",
       "</g>\n",
       "<g clip-path=\"url(#clip12)\" clip-rule=\"nonzero\">\n",
       "<path style=\"fill:none;stroke-width:1.066978;stroke-linecap:butt;stroke-linejoin:round;stroke:rgb(100%,100%,100%);stroke-opacity:1;stroke-miterlimit:10;\" d=\"M 49.152344 274.078125 L 498.519531 274.078125 \"/>\n",
       "</g>\n",
       "<g clip-path=\"url(#clip13)\" clip-rule=\"nonzero\">\n",
       "<path style=\"fill:none;stroke-width:1.066978;stroke-linecap:butt;stroke-linejoin:round;stroke:rgb(100%,100%,100%);stroke-opacity:1;stroke-miterlimit:10;\" d=\"M 49.152344 161.378906 L 498.519531 161.378906 \"/>\n",
       "</g>\n",
       "<g clip-path=\"url(#clip14)\" clip-rule=\"nonzero\">\n",
       "<path style=\"fill:none;stroke-width:1.066978;stroke-linecap:butt;stroke-linejoin:round;stroke:rgb(100%,100%,100%);stroke-opacity:1;stroke-miterlimit:10;\" d=\"M 49.152344 48.679688 L 498.519531 48.679688 \"/>\n",
       "</g>\n",
       "<g clip-path=\"url(#clip15)\" clip-rule=\"nonzero\">\n",
       "<path style=\"fill:none;stroke-width:1.066978;stroke-linecap:butt;stroke-linejoin:round;stroke:rgb(100%,100%,100%);stroke-opacity:1;stroke-miterlimit:10;\" d=\"M 69.578125 462.847656 L 69.578125 28.957031 \"/>\n",
       "</g>\n",
       "<g clip-path=\"url(#clip16)\" clip-rule=\"nonzero\">\n",
       "<path style=\"fill:none;stroke-width:1.066978;stroke-linecap:butt;stroke-linejoin:round;stroke:rgb(100%,100%,100%);stroke-opacity:1;stroke-miterlimit:10;\" d=\"M 151.28125 462.847656 L 151.28125 28.957031 \"/>\n",
       "</g>\n",
       "<g clip-path=\"url(#clip17)\" clip-rule=\"nonzero\">\n",
       "<path style=\"fill:none;stroke-width:1.066978;stroke-linecap:butt;stroke-linejoin:round;stroke:rgb(100%,100%,100%);stroke-opacity:1;stroke-miterlimit:10;\" d=\"M 232.984375 462.847656 L 232.984375 28.957031 \"/>\n",
       "</g>\n",
       "<g clip-path=\"url(#clip18)\" clip-rule=\"nonzero\">\n",
       "<path style=\"fill:none;stroke-width:1.066978;stroke-linecap:butt;stroke-linejoin:round;stroke:rgb(100%,100%,100%);stroke-opacity:1;stroke-miterlimit:10;\" d=\"M 314.6875 462.847656 L 314.6875 28.957031 \"/>\n",
       "</g>\n",
       "<g clip-path=\"url(#clip19)\" clip-rule=\"nonzero\">\n",
       "<path style=\"fill:none;stroke-width:1.066978;stroke-linecap:butt;stroke-linejoin:round;stroke:rgb(100%,100%,100%);stroke-opacity:1;stroke-miterlimit:10;\" d=\"M 396.390625 462.847656 L 396.390625 28.957031 \"/>\n",
       "</g>\n",
       "<g clip-path=\"url(#clip20)\" clip-rule=\"nonzero\">\n",
       "<path style=\"fill:none;stroke-width:1.066978;stroke-linecap:butt;stroke-linejoin:round;stroke:rgb(100%,100%,100%);stroke-opacity:1;stroke-miterlimit:10;\" d=\"M 478.09375 462.847656 L 478.09375 28.957031 \"/>\n",
       "</g>\n",
       "<g style=\"fill:rgb(30.196078%,30.196078%,30.196078%);fill-opacity:1;\">\n",
       "  <use xlink:href=\"#glyph0-1\" x=\"23.21875\" y=\"391.726562\"/>\n",
       "  <use xlink:href=\"#glyph0-2\" x=\"30.21875\" y=\"391.726562\"/>\n",
       "  <use xlink:href=\"#glyph0-2\" x=\"37.21875\" y=\"391.726562\"/>\n",
       "</g>\n",
       "<g style=\"fill:rgb(30.196078%,30.196078%,30.196078%);fill-opacity:1;\">\n",
       "  <use xlink:href=\"#glyph0-3\" x=\"23.21875\" y=\"279.027344\"/>\n",
       "  <use xlink:href=\"#glyph0-2\" x=\"30.21875\" y=\"279.027344\"/>\n",
       "  <use xlink:href=\"#glyph0-2\" x=\"37.21875\" y=\"279.027344\"/>\n",
       "</g>\n",
       "<g style=\"fill:rgb(30.196078%,30.196078%,30.196078%);fill-opacity:1;\">\n",
       "  <use xlink:href=\"#glyph0-4\" x=\"23.21875\" y=\"166.328125\"/>\n",
       "  <use xlink:href=\"#glyph0-2\" x=\"30.21875\" y=\"166.328125\"/>\n",
       "  <use xlink:href=\"#glyph0-2\" x=\"37.21875\" y=\"166.328125\"/>\n",
       "</g>\n",
       "<g style=\"fill:rgb(30.196078%,30.196078%,30.196078%);fill-opacity:1;\">\n",
       "  <use xlink:href=\"#glyph0-5\" x=\"23.21875\" y=\"53.628906\"/>\n",
       "  <use xlink:href=\"#glyph0-2\" x=\"30.21875\" y=\"53.628906\"/>\n",
       "  <use xlink:href=\"#glyph0-2\" x=\"37.21875\" y=\"53.628906\"/>\n",
       "</g>\n",
       "<path style=\"fill:none;stroke-width:1.066978;stroke-linecap:butt;stroke-linejoin:round;stroke:rgb(20%,20%,20%);stroke-opacity:1;stroke-miterlimit:10;\" d=\"M 46.410156 386.777344 L 49.152344 386.777344 \"/>\n",
       "<path style=\"fill:none;stroke-width:1.066978;stroke-linecap:butt;stroke-linejoin:round;stroke:rgb(20%,20%,20%);stroke-opacity:1;stroke-miterlimit:10;\" d=\"M 46.410156 274.078125 L 49.152344 274.078125 \"/>\n",
       "<path style=\"fill:none;stroke-width:1.066978;stroke-linecap:butt;stroke-linejoin:round;stroke:rgb(20%,20%,20%);stroke-opacity:1;stroke-miterlimit:10;\" d=\"M 46.410156 161.378906 L 49.152344 161.378906 \"/>\n",
       "<path style=\"fill:none;stroke-width:1.066978;stroke-linecap:butt;stroke-linejoin:round;stroke:rgb(20%,20%,20%);stroke-opacity:1;stroke-miterlimit:10;\" d=\"M 46.410156 48.679688 L 49.152344 48.679688 \"/>\n",
       "<path style=\"fill:none;stroke-width:1.066978;stroke-linecap:butt;stroke-linejoin:round;stroke:rgb(20%,20%,20%);stroke-opacity:1;stroke-miterlimit:10;\" d=\"M 69.578125 465.589844 L 69.578125 462.847656 \"/>\n",
       "<path style=\"fill:none;stroke-width:1.066978;stroke-linecap:butt;stroke-linejoin:round;stroke:rgb(20%,20%,20%);stroke-opacity:1;stroke-miterlimit:10;\" d=\"M 151.28125 465.589844 L 151.28125 462.847656 \"/>\n",
       "<path style=\"fill:none;stroke-width:1.066978;stroke-linecap:butt;stroke-linejoin:round;stroke:rgb(20%,20%,20%);stroke-opacity:1;stroke-miterlimit:10;\" d=\"M 232.984375 465.589844 L 232.984375 462.847656 \"/>\n",
       "<path style=\"fill:none;stroke-width:1.066978;stroke-linecap:butt;stroke-linejoin:round;stroke:rgb(20%,20%,20%);stroke-opacity:1;stroke-miterlimit:10;\" d=\"M 314.6875 465.589844 L 314.6875 462.847656 \"/>\n",
       "<path style=\"fill:none;stroke-width:1.066978;stroke-linecap:butt;stroke-linejoin:round;stroke:rgb(20%,20%,20%);stroke-opacity:1;stroke-miterlimit:10;\" d=\"M 396.390625 465.589844 L 396.390625 462.847656 \"/>\n",
       "<path style=\"fill:none;stroke-width:1.066978;stroke-linecap:butt;stroke-linejoin:round;stroke:rgb(20%,20%,20%);stroke-opacity:1;stroke-miterlimit:10;\" d=\"M 478.09375 465.589844 L 478.09375 462.847656 \"/>\n",
       "<g style=\"fill:rgb(30.196078%,30.196078%,30.196078%);fill-opacity:1;\">\n",
       "  <use xlink:href=\"#glyph0-2\" x=\"66.078125\" y=\"477.730469\"/>\n",
       "</g>\n",
       "<g style=\"fill:rgb(30.196078%,30.196078%,30.196078%);fill-opacity:1;\">\n",
       "  <use xlink:href=\"#glyph0-1\" x=\"144.28125\" y=\"477.730469\"/>\n",
       "  <use xlink:href=\"#glyph0-2\" x=\"151.28125\" y=\"477.730469\"/>\n",
       "</g>\n",
       "<g style=\"fill:rgb(30.196078%,30.196078%,30.196078%);fill-opacity:1;\">\n",
       "  <use xlink:href=\"#glyph0-3\" x=\"225.984375\" y=\"477.730469\"/>\n",
       "  <use xlink:href=\"#glyph0-2\" x=\"232.984375\" y=\"477.730469\"/>\n",
       "</g>\n",
       "<g style=\"fill:rgb(30.196078%,30.196078%,30.196078%);fill-opacity:1;\">\n",
       "  <use xlink:href=\"#glyph0-4\" x=\"307.6875\" y=\"477.730469\"/>\n",
       "  <use xlink:href=\"#glyph0-2\" x=\"314.6875\" y=\"477.730469\"/>\n",
       "</g>\n",
       "<g style=\"fill:rgb(30.196078%,30.196078%,30.196078%);fill-opacity:1;\">\n",
       "  <use xlink:href=\"#glyph0-5\" x=\"389.390625\" y=\"477.730469\"/>\n",
       "  <use xlink:href=\"#glyph0-2\" x=\"396.390625\" y=\"477.730469\"/>\n",
       "</g>\n",
       "<g style=\"fill:rgb(30.196078%,30.196078%,30.196078%);fill-opacity:1;\">\n",
       "  <use xlink:href=\"#glyph0-6\" x=\"471.09375\" y=\"477.730469\"/>\n",
       "  <use xlink:href=\"#glyph0-2\" x=\"478.09375\" y=\"477.730469\"/>\n",
       "</g>\n",
       "</g>\n",
       "</svg>\n"
      ],
      "text/plain": [
       "plot without title"
      ]
     },
     "metadata": {
      "application/pdf": {
       "height": 420,
       "width": 420
      },
      "image/jpeg": {
       "height": 420,
       "width": 420
      },
      "image/png": {
       "height": 420,
       "width": 420
      },
      "image/svg+xml": {
       "height": 420,
       "isolated": true,
       "width": 420
      }
     },
     "output_type": "display_data"
    }
   ],
   "source": [
    "# data_pairplots <- data %>%\n",
    "#   ggpairs(progress = FALSE) +\n",
    "#   theme(\n",
    "#     text = element_text(size = 15),\n",
    "#     plot.title = element_text(face = \"bold\"),\n",
    "#     axis.title = element_text(face = \"bold\")\n",
    "#   )\n",
    "\n",
    "# data_pairplots\n",
    "\n",
    "bike_cnt_temp_plot <- ggplot(data = bike_data, aes(x = temp, y = cnt)) +\n",
    "  geom_point() +\n",
    "  geom_smooth(aes(x = temp, y = cnt), method = lm, se = FALSE, linewidth = 1.5) +\n",
    "  coord_cartesian(xlim = c(0, 50), ylim = c(50, 400)) +\n",
    "  xlab(\"\") +\n",
    "  ylab(\"\") +\n",
    "  ggtitle(\"\") +\n",
    "  theme(\n",
    "    text = element_text(size = 16.5),\n",
    "    plot.title = element_text(face = \"bold\"),\n",
    "    axis.title = element_text(face = \"bold\")\n",
    "  )\n",
    "\n",
    "bike_cnt_temp_plot"
   ]
  },
  {
   "cell_type": "markdown",
   "id": "a613f062-f615-4931-991c-dc1185dcb5c8",
   "metadata": {},
   "source": [
    "## References\n",
    "\n",
    "Fanaee-T,Hadi. (2013). Bike Sharing Dataset. UCI Machine Learning Repository. https://doi.org/10.24432/C5W894."
   ]
  },
  {
   "cell_type": "code",
   "execution_count": null,
   "id": "eaa5e1be-1d42-4d96-847d-ec70d1b87f38",
   "metadata": {},
   "outputs": [],
   "source": []
  }
 ],
 "metadata": {
  "kernelspec": {
   "display_name": "R",
   "language": "R",
   "name": "ir"
  },
  "language_info": {
   "codemirror_mode": "r",
   "file_extension": ".r",
   "mimetype": "text/x-r-source",
   "name": "R",
   "pygments_lexer": "r",
   "version": "4.2.3"
  }
 },
 "nbformat": 4,
 "nbformat_minor": 5
}
